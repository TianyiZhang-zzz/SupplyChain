{
  "nbformat": 4,
  "nbformat_minor": 0,
  "metadata": {
    "colab": {
      "provenance": [],
      "authorship_tag": "ABX9TyNKNquRiXpC2ZHRUDnwa86f",
      "include_colab_link": true
    },
    "kernelspec": {
      "name": "python3",
      "display_name": "Python 3"
    },
    "language_info": {
      "name": "python"
    }
  },
  "cells": [
    {
      "cell_type": "markdown",
      "metadata": {
        "id": "view-in-github",
        "colab_type": "text"
      },
      "source": [
        "<a href=\"https://colab.research.google.com/github/TianyiZhang-zzz/SupplyChain/blob/main/sc0306.ipynb\" target=\"_parent\"><img src=\"https://colab.research.google.com/assets/colab-badge.svg\" alt=\"Open In Colab\"/></a>"
      ]
    },
    {
      "cell_type": "code",
      "execution_count": 1,
      "metadata": {
        "colab": {
          "base_uri": "https://localhost:8080/"
        },
        "id": "L7jDQUuTyySl",
        "outputId": "4b6329db-4700-4cd3-8837-5ec1bab27fd3"
      },
      "outputs": [
        {
          "output_type": "stream",
          "name": "stdout",
          "text": [
            "Annual Operational Cost (Independent Sourcing): $3271.48\n",
            "Annual Operational Cost (Same Frequency Sourcing): $2445.66\n",
            "Annual Operational Cost (Tailored Aggregation Strategy): $3327.66\n"
          ]
        }
      ],
      "source": [
        "import numpy as np\n",
        "import pandas as pd\n",
        "\n",
        "# Given Data\n",
        "products = {\n",
        "    \"Product\": [1, 2, 3, 4],\n",
        "    \"Demand\": [1000, 300, 100, 50],\n",
        "    \"Common_Ordering_Cost\": [150, 150, 150, 150],\n",
        "    \"Specific_Ordering_Cost\": [20, 25, 30, 50],\n",
        "    \"Unit_Cost\": [50, 60, 30, 30],\n",
        "    \"Holding_Cost_Rate\": [0.15, 0.15, 0.15, 0.15]\n",
        "}\n",
        "\n",
        "df = pd.DataFrame(products)\n",
        "\n",
        "# Compute Total Ordering Cost for each product\n",
        "df[\"Total_Ordering_Cost\"] = df[\"Common_Ordering_Cost\"] + df[\"Specific_Ordering_Cost\"]\n",
        "\n",
        "# EOQ Calculation: Q = sqrt(2DS/hC)\n",
        "df[\"EOQ\"] = np.sqrt((2 * df[\"Demand\"] * df[\"Total_Ordering_Cost\"]) / (df[\"Holding_Cost_Rate\"] * df[\"Unit_Cost\"]))\n",
        "\n",
        "# Independent Sourcing\n",
        "df[\"Order_Frequency_Ind\"] = df[\"Demand\"] / df[\"EOQ\"]\n",
        "df[\"Annual_Ordering_Cost_Ind\"] = df[\"Order_Frequency_Ind\"] * df[\"Total_Ordering_Cost\"]\n",
        "df[\"Annual_Holding_Cost_Ind\"] = (df[\"EOQ\"] / 2) * df[\"Holding_Cost_Rate\"] * df[\"Unit_Cost\"]\n",
        "total_cost_independent = df[\"Annual_Ordering_Cost_Ind\"].sum() + df[\"Annual_Holding_Cost_Ind\"].sum()\n",
        "\n",
        "# Same Frequency Sourcing\n",
        "agg_demand = df[\"Demand\"].sum()\n",
        "agg_ordering_cost = df[\"Common_Ordering_Cost\"].max() + df[\"Specific_Ordering_Cost\"].sum()\n",
        "agg_unit_cost = (df[\"Unit_Cost\"] * df[\"Demand\"]).sum() / agg_demand  # Weighted average cost\n",
        "\n",
        "EOQ_same = np.sqrt((2 * agg_demand * agg_ordering_cost) / (df[\"Holding_Cost_Rate\"].mean() * agg_unit_cost))\n",
        "order_frequency_same = agg_demand / EOQ_same\n",
        "annual_ordering_cost_same = order_frequency_same * agg_ordering_cost\n",
        "annual_holding_cost_same = (EOQ_same / 2) * df[\"Holding_Cost_Rate\"].mean() * agg_unit_cost\n",
        "total_cost_same = annual_ordering_cost_same + annual_holding_cost_same\n",
        "\n",
        "# Tailored Aggregation Strategy (Grouping)\n",
        "df[\"Grouped_Ordering_Cost\"] = df[\"Common_Ordering_Cost\"] + df[\"Specific_Ordering_Cost\"].mean()\n",
        "df[\"EOQ_Grouped\"] = np.sqrt((2 * df[\"Demand\"] * df[\"Grouped_Ordering_Cost\"]) / (df[\"Holding_Cost_Rate\"] * df[\"Unit_Cost\"]))\n",
        "df[\"Order_Frequency_Grouped\"] = df[\"Demand\"] / df[\"EOQ_Grouped\"]\n",
        "df[\"Annual_Ordering_Cost_Grouped\"] = df[\"Order_Frequency_Grouped\"] * df[\"Grouped_Ordering_Cost\"]\n",
        "df[\"Annual_Holding_Cost_Grouped\"] = (df[\"EOQ_Grouped\"] / 2) * df[\"Holding_Cost_Rate\"] * df[\"Unit_Cost\"]\n",
        "total_cost_grouped = df[\"Annual_Ordering_Cost_Grouped\"].sum() + df[\"Annual_Holding_Cost_Grouped\"].sum()\n",
        "\n",
        "# Display results\n",
        "print(f\"Annual Operational Cost (Independent Sourcing): ${total_cost_independent:.2f}\")\n",
        "print(f\"Annual Operational Cost (Same Frequency Sourcing): ${total_cost_same:.2f}\")\n",
        "print(f\"Annual Operational Cost (Tailored Aggregation Strategy): ${total_cost_grouped:.2f}\")\n"
      ]
    }
  ]
}