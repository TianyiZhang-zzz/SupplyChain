{
  "nbformat": 4,
  "nbformat_minor": 0,
  "metadata": {
    "colab": {
      "provenance": [],
      "authorship_tag": "ABX9TyOptWgttiKYeLs3SUjrlxMq",
      "include_colab_link": true
    },
    "kernelspec": {
      "name": "python3",
      "display_name": "Python 3"
    },
    "language_info": {
      "name": "python"
    }
  },
  "cells": [
    {
      "cell_type": "markdown",
      "metadata": {
        "id": "view-in-github",
        "colab_type": "text"
      },
      "source": [
        "<a href=\"https://colab.research.google.com/github/TianyiZhang-zzz/SupplyChain/blob/main/sc0306.ipynb\" target=\"_parent\"><img src=\"https://colab.research.google.com/assets/colab-badge.svg\" alt=\"Open In Colab\"/></a>"
      ]
    },
    {
      "cell_type": "code",
      "source": [
        "import numpy as np\n",
        "import pandas as pd\n",
        "from itertools import combinations\n",
        "\n",
        "# Given Data\n",
        "products = {\n",
        "    \"Product\": [1, 2, 3, 4],\n",
        "    \"Demand\": [1000, 300, 100, 50],\n",
        "    \"Common_Ordering_Cost\": [150, 150, 150, 150],\n",
        "    \"Specific_Ordering_Cost\": [20, 25, 30, 50],\n",
        "    \"Unit_Cost\": [50, 60, 30, 30],\n",
        "    \"Holding_Cost_Rate\": [0.15, 0.15, 0.15, 0.15]\n",
        "}\n",
        "\n",
        "df = pd.DataFrame(products)\n",
        "\n",
        "# Compute Total Ordering Cost for each product\n",
        "df[\"Total_Ordering_Cost\"] = df[\"Common_Ordering_Cost\"] + df[\"Specific_Ordering_Cost\"]\n",
        "\n",
        "# EOQ Calculation: Q = sqrt(2DS/hC)\n",
        "df[\"EOQ\"] = np.sqrt((2 * df[\"Demand\"] * df[\"Total_Ordering_Cost\"]) / (df[\"Holding_Cost_Rate\"] * df[\"Unit_Cost\"]))\n",
        "\n",
        "# Independent Sourcing (Q1)\n",
        "df[\"Order_Frequency_Ind\"] = df[\"Demand\"] / df[\"EOQ\"]\n",
        "df[\"Annual_Ordering_Cost_Ind\"] = df[\"Order_Frequency_Ind\"] * df[\"Total_Ordering_Cost\"]\n",
        "df[\"Annual_Holding_Cost_Ind\"] = (df[\"EOQ\"] / 2) * df[\"Holding_Cost_Rate\"] * df[\"Unit_Cost\"]\n",
        "total_cost_independent = df[\"Annual_Ordering_Cost_Ind\"].sum() + df[\"Annual_Holding_Cost_Ind\"].sum()\n",
        "\n",
        "# Same Frequency Sourcing (Q2)\n",
        "agg_demand = df[\"Demand\"].sum()\n",
        "agg_ordering_cost = df[\"Common_Ordering_Cost\"].max() + df[\"Specific_Ordering_Cost\"].sum()\n",
        "agg_unit_cost = (df[\"Unit_Cost\"] * df[\"Demand\"]).sum() / agg_demand  # Weighted average cost\n",
        "\n",
        "EOQ_same = np.sqrt((2 * agg_demand * agg_ordering_cost) / (df[\"Holding_Cost_Rate\"].mean() * agg_unit_cost))\n",
        "order_frequency_same = agg_demand / EOQ_same\n",
        "annual_ordering_cost_same = order_frequency_same * agg_ordering_cost\n",
        "annual_holding_cost_same = (EOQ_same / 2) * df[\"Holding_Cost_Rate\"].mean() * agg_unit_cost\n",
        "total_cost_same = annual_ordering_cost_same + annual_holding_cost_same\n",
        "\n",
        "# Function to calculate cost for a given partition\n",
        "def calculate_partition_cost(partition):\n",
        "    total_cost = 0\n",
        "    for group in partition:\n",
        "        group_demand = df.loc[group, \"Demand\"].sum()\n",
        "        group_ordering_cost = df.loc[group, \"Common_Ordering_Cost\"].max() + df.loc[group, \"Specific_Ordering_Cost\"].sum()\n",
        "        group_unit_cost = (df.loc[group, \"Unit_Cost\"] * df.loc[group, \"Demand\"]).sum() / group_demand\n",
        "\n",
        "        EOQ_group = np.sqrt((2 * group_demand * group_ordering_cost) / (df.loc[group, \"Holding_Cost_Rate\"].mean() * group_unit_cost))\n",
        "        order_frequency_group = group_demand / EOQ_group\n",
        "        annual_ordering_cost_group = order_frequency_group * group_ordering_cost\n",
        "        annual_holding_cost_group = (EOQ_group / 2) * df.loc[group, \"Holding_Cost_Rate\"].mean() * group_unit_cost\n",
        "\n",
        "        total_cost += annual_ordering_cost_group + annual_holding_cost_group\n",
        "    return total_cost\n",
        "\n",
        "# Different partition strategies for Q3 (Tailored Aggregation)\n",
        "partitions = [\n",
        "    [[0], [1], [2], [3]],  # Independent (same as Q1)\n",
        "    [[0, 1], [2, 3]],      # Two groups\n",
        "    [[0, 1], [2], [3]],    # Three groups\n",
        "    [[0, 1, 2, 3]]         # All together (should match Q2)\n",
        "]\n",
        "\n",
        "# Compute cost for each partition\n",
        "partition_costs = {str(p): calculate_partition_cost(p) for p in partitions}\n",
        "\n",
        "# Find the best partition (lowest cost)\n",
        "best_partition = min(partition_costs, key=partition_costs.get)\n",
        "best_partition_cost = partition_costs[best_partition]\n",
        "\n",
        "# Display results\n",
        "print(f\"Annual Operational Cost (Independent Sourcing): ${total_cost_independent:.2f}\")\n",
        "print(f\"Annual Operational Cost (Same Frequency Sourcing): ${total_cost_same:.2f}\")\n",
        "print(f\"Best Tailored Aggregation Partition: {best_partition}\")\n",
        "print(f\"Annual Operational Cost (Best Tailored Aggregation): ${best_partition_cost:.2f}\")\n"
      ],
      "metadata": {
        "id": "wlM0lRisZph0",
        "outputId": "f4b1f8b7-a676-4911-eb3d-9b25332caed2",
        "colab": {
          "base_uri": "https://localhost:8080/"
        }
      },
      "execution_count": 5,
      "outputs": [
        {
          "output_type": "stream",
          "name": "stdout",
          "text": [
            "Annual Operational Cost (Independent Sourcing): $3271.48\n",
            "Annual Operational Cost (Same Frequency Sourcing): $2445.66\n",
            "Best Tailored Aggregation Partition: [[0, 1, 2, 3]]\n",
            "Annual Operational Cost (Best Tailored Aggregation): $2445.66\n"
          ]
        }
      ]
    }
  ]
}